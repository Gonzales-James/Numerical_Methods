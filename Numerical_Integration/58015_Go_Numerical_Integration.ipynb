{
  "nbformat": 4,
  "nbformat_minor": 0,
  "metadata": {
    "colab": {
      "name": "58015_Go_Numerical_Integration.ipynb",
      "provenance": [],
      "collapsed_sections": [],
      "include_colab_link": true
    },
    "kernelspec": {
      "name": "python3",
      "display_name": "Python 3"
    },
    "language_info": {
      "name": "python"
    }
  },
  "cells": [
    {
      "cell_type": "markdown",
      "metadata": {
        "id": "view-in-github",
        "colab_type": "text"
      },
      "source": [
        "<a href=\"https://colab.research.google.com/github/Gonzales-James/Numerical_Methods/blob/main/Numerical_Integration/58015_Go_Numerical_Integration.ipynb\" target=\"_parent\"><img src=\"https://colab.research.google.com/assets/colab-badge.svg\" alt=\"Open In Colab\"/></a>"
      ]
    },
    {
      "cell_type": "markdown",
      "metadata": {
        "id": "aLm49oWjuZFa"
      },
      "source": [
        "#**Numerical Integration**\n",
        "\n",
        "*Submitted by: Go Group* <br>\n",
        "*Submitted to: Engr. Dylan Josh Lopez*<br>\n",
        "*Section: 58015*"
      ]
    },
    {
      "cell_type": "markdown",
      "metadata": {
        "id": "YGOu8F41ZiTz"
      },
      "source": [
        "## **Importing needed Libraries**"
      ]
    },
    {
      "cell_type": "code",
      "metadata": {
        "id": "B2cndgQ6TKKJ"
      },
      "source": [
        "import numpy as np\n",
        "from scipy import integrate\n",
        "import matplotlib.pyplot as plt\n",
        "from numpy.random import normal"
      ],
      "execution_count": 1,
      "outputs": []
    },
    {
      "cell_type": "markdown",
      "metadata": {
        "id": "_1JW7pmHZnJL"
      },
      "source": [
        "## **Declaration of Functions to be used**"
      ]
    },
    {
      "cell_type": "code",
      "metadata": {
        "id": "dx-QTxzTTieD"
      },
      "source": [
        "a, b = 0, 5\n",
        "n = 1e4\n",
        "\n",
        "f1 = lambda x: (x**2+2)*(x+5)\n",
        "f2 = lambda x: 2*x**4 + 3*x**3 - 11*x**2 - 9*x + 15\n",
        "f3 = lambda x: (x**2 + 2*x)/(2*x**3) \n",
        "\n",
        "\n",
        "p1 = lambda x: x**4 + 3*x**2 + 4\n",
        "p2 = lambda x: 2*x**5 + 6*x**4 + 3*x**2 + 13 \n",
        "\n",
        "t1 = lambda x: np.sin(2*x) + np.cos(5*x)\n",
        "t2 = lambda x: (np.cos(x**2) + np.sin(x)) / (5)\n",
        "\n",
        "l1 = lambda x: np.log(x**2+1)\n",
        "l2 = lambda x: np.log(5)**(2*x+1)"
      ],
      "execution_count": 2,
      "outputs": []
    },
    {
      "cell_type": "markdown",
      "metadata": {
        "id": "zn3yMxHuZrMG"
      },
      "source": [
        "## **Integration using SciPy**"
      ]
    },
    {
      "cell_type": "markdown",
      "metadata": {
        "id": "IhFp3QHOmTiy"
      },
      "source": [
        "Scipy has different techiques to integrate but “quad” is the one that is mainly used. “quad” means QUADPACK is a FORTRAN 77 library. The  “scipy.integrate.quad” automatically integrates the one-dimensional function from two end points(a & b)."
      ]
    },
    {
      "cell_type": "code",
      "metadata": {
        "colab": {
          "base_uri": "https://localhost:8080/",
          "height": 0
        },
        "id": "Zol333QpTZ6B",
        "outputId": "3f769ca5-a376-485e-9080-1ed6f5681277"
      },
      "source": [
        "integrate.quad(f1, a, b)"
      ],
      "execution_count": 3,
      "outputs": [
        {
          "output_type": "execute_result",
          "data": {
            "text/plain": [
              "(439.58333333333326, 4.880355379081417e-12)"
            ]
          },
          "metadata": {
            "tags": []
          },
          "execution_count": 3
        }
      ]
    },
    {
      "cell_type": "code",
      "metadata": {
        "colab": {
          "base_uri": "https://localhost:8080/",
          "height": 0
        },
        "id": "LgSgbZau3685",
        "outputId": "389e4896-7985-4b72-8938-af2cb2c2bf36"
      },
      "source": [
        "integrate.quad(f2, a, b)"
      ],
      "execution_count": 4,
      "outputs": [
        {
          "output_type": "execute_result",
          "data": {
            "text/plain": [
              "(1222.9166666666667, 1.3609620133607769e-11)"
            ]
          },
          "metadata": {
            "tags": []
          },
          "execution_count": 4
        }
      ]
    },
    {
      "cell_type": "code",
      "metadata": {
        "colab": {
          "base_uri": "https://localhost:8080/",
          "height": 0
        },
        "id": "GpXVo9m34Hbh",
        "outputId": "47761fcf-4789-40db-b651-8007647de53e"
      },
      "source": [
        "integrate.quad(f3, a, b)"
      ],
      "execution_count": 5,
      "outputs": [
        {
          "output_type": "stream",
          "text": [
            "/usr/local/lib/python3.7/dist-packages/ipykernel_launcher.py:1: IntegrationWarning: The integral is probably divergent, or slowly convergent.\n",
            "  \"\"\"Entry point for launching an IPython kernel.\n"
          ],
          "name": "stderr"
        },
        {
          "output_type": "execute_result",
          "data": {
            "text/plain": [
              "(9.548065066337585, 2.079440340399742)"
            ]
          },
          "metadata": {
            "tags": []
          },
          "execution_count": 5
        }
      ]
    },
    {
      "cell_type": "markdown",
      "metadata": {
        "id": "j58lHXA9Zxwq"
      },
      "source": [
        "## **Simpson's 1/3 Rule**"
      ]
    },
    {
      "cell_type": "markdown",
      "metadata": {
        "id": "7zfh0YbY7G1X"
      },
      "source": [
        "The function simp_13 aims to simulate the function used to calculate the area under a curve with definite integrals. The Simpson 1/3 rule is fairly simple and easy to understand when placed in the following Python code.<br><br>\n",
        "\n",
        "Firstly, the function takes in 4 arguments which are: func, lb, ub, and divs in order. The func argument takes in the function, the lb and ub take the lower boundary and the upper boundary limits, respectively, while the divs are the counts of how many steps are taken when dividing looking for the solution.<br><br>\n",
        "\n",
        "Afterward, the function runs and uses the values placed for each argument and applies the formula for the Simpson 1/3 rule. First, it computes for a variable h which is calculated by subtracting the lower to the upper boundary, which is then divided by the count of division performed. <br><br>\n",
        "\n",
        "Next for the \"A\" variable is the main process. It adds the function for both the upp and lower boundaries and the summation of function, which loops repeatedly depending on the divs argument's value. For the odd ranges, the summation is multiplied to 4, while for the even ranges, it is only multiplied by 2. Once everything has been calculated, the values are added together to give the variable \"A\" its value. <br><br>\n",
        "\n",
        "Lastly is for the solution displayed as the variable \"S,\" which is what the whole function will return. Here it is completely straightforward where \"h\" is divided by 3 then multiplied to the variable \"A\" to get the return value of the whole function."
      ]
    },
    {
      "cell_type": "code",
      "metadata": {
        "id": "dyV59ExfTteG"
      },
      "source": [
        "def simp_13(func,lb,ub,divs):\n",
        "  h = (ub-lb)/divs\n",
        "  A = (func(lb)+func(ub))+ \\\n",
        "            np.sum(4*func(lb+h*np.arange(1,divs,2)))+ \\\n",
        "            np.sum(2*func(lb+h*np.arange(2,divs,2)))\n",
        "  S = (h/3)*A\n",
        "  return S"
      ],
      "execution_count": 6,
      "outputs": []
    },
    {
      "cell_type": "markdown",
      "metadata": {
        "id": "vcy5ckaoZ6vA"
      },
      "source": [
        "## **Simpson's 3/8 Rule**"
      ]
    },
    {
      "cell_type": "markdown",
      "metadata": {
        "id": "LaTzwA2g74CI"
      },
      "source": [
        "This technique is very similar to Simpson’s 1/3 rule since they both have the same parameters. It works by using cubic interpolation. And these are the steps the function will take: <br><br>\n",
        "\n",
        "Firstly, the function takes in 4 arguments which are: func, lb, ub, and divs in order. The func argument takes in the function, the lb and ub take the lower boundary and the upper boundary limits, respectively, while the divs are the counts of how many steps are taken when dividing looking for the solution.<br><br>\n",
        "\n",
        "Afterward, the difference between the two endpoints will be divided by the count of divisions performed. It is recommended to have a higher divisor be more accurate and reduce the amount of error.<br><br>\n",
        "\n",
        "In this method, the first step is dividing the difference of the two endpoints to the divisor. The main formula was coded, which include summations. The first summation will be multiplied by 3, and it will start with 1 until the value of “divs” given by the user, and the 3 will be the interval between every integer. All the summations in the 3/8 Simpson rule’s formula will have an interval of 3. The second summation is still multiplied by 3, but it will start with 2. The last summation is only multiplied by 2, but it will begin with 3."
      ]
    },
    {
      "cell_type": "markdown",
      "metadata": {
        "id": "Z1uZrr0e70Ah"
      },
      "source": [
        ""
      ]
    },
    {
      "cell_type": "code",
      "metadata": {
        "id": "wcWzXJl8Wn4T"
      },
      "source": [
        "def simp_38(func,lb,ub,divs):\n",
        "  h = (ub-lb)/divs\n",
        "  A = (func(lb)+func(ub))+ \\\n",
        "            np.sum(3*(func(lb+h*np.arange(1,divs,3))))+ \\\n",
        "            np.sum(3*(func(lb+h*np.arange(2,divs,3))))+ \\\n",
        "            np.sum(2*func(lb+h*np.arange(3,divs,3)))\n",
        "  S = (3*h/8)*A\n",
        "  return S"
      ],
      "execution_count": 7,
      "outputs": []
    },
    {
      "cell_type": "markdown",
      "metadata": {
        "id": "vRzS98qNZ-B6"
      },
      "source": [
        "## **Monte Carlo Integration**"
      ]
    },
    {
      "cell_type": "markdown",
      "metadata": {
        "id": "cBrTxmAm7cC3"
      },
      "source": [
        "The function of Monte Carlo is to solve a problem using randomness. It is mostly used when other methods don’t work, meaning it can fix difficult problems. It’s not only used in numerical integration but also in optimization and probability distribution. This technique will show distributions of the probable result values. \n"
      ]
    },
    {
      "cell_type": "markdown",
      "metadata": {
        "id": "QkGbnmrY7sqh"
      },
      "source": [
        "\n",
        "The function below shows the upper boundary, lower boundary and divisor will have a random value spread in a uniform distribution.\n",
        "The values of sample will then be inserted into the chosen function and get the average of the result. The last step is taking the mean of the difference of upper and lower boundary.\n"
      ]
    },
    {
      "cell_type": "code",
      "metadata": {
        "id": "jfpE1WGSWqC0"
      },
      "source": [
        "def monte_carlo(func,lb,ub,divs):\n",
        "  samples = np.random.uniform(lb,ub,int(divs))\n",
        "  mean = np.mean(func(samples))\n",
        "  S = (ub-lb)*mean\n",
        "  return S"
      ],
      "execution_count": 8,
      "outputs": []
    },
    {
      "cell_type": "markdown",
      "metadata": {
        "id": "1-3NrDtMbNy9"
      },
      "source": [
        "## **Implementing Different Integration Techniques using Higher-Order Polynomials**"
      ]
    },
    {
      "cell_type": "code",
      "metadata": {
        "colab": {
          "base_uri": "https://localhost:8080/",
          "height": 0
        },
        "id": "6oFYQ28MXaJ-",
        "outputId": "f86ff5e8-81c7-4358-c9f3-6de2fbcef1a4"
      },
      "source": [
        "res1 = integrate.quad(p1, a, b)\n",
        "res2 = integrate.quad(p2, a, b)\n",
        "error1 = abs(770 - res1[0])\n",
        "error2 = abs(9148.3333 - res2[1])\n",
        "\n",
        "print(f'Answer (Function 1): {res1[0]}, Error Approximation: {error1}')\n",
        "print(f'Answer (Function 2): {res2[0]}, Error Approximation: {error2}')"
      ],
      "execution_count": 9,
      "outputs": [
        {
          "output_type": "stream",
          "text": [
            "Answer (Function 1): 770.0, Error Approximation: 0.0\n",
            "Answer (Function 2): 9148.333333333334, Error Approximation: 9148.333299999898\n"
          ],
          "name": "stdout"
        }
      ]
    },
    {
      "cell_type": "code",
      "metadata": {
        "colab": {
          "base_uri": "https://localhost:8080/",
          "height": 0
        },
        "id": "xIm7PAdXbP61",
        "outputId": "a4ad76f8-3e4c-4e42-b8a6-e2dc5f3d9402"
      },
      "source": [
        "res1 = simp_13(p1,a,b,n)\n",
        "res2 = simp_13(p2,a,b,n)\n",
        "error1 = abs(770 - res1)\n",
        "error2 = abs(9148.3333 - res2)\n",
        "\n",
        "print(f'Answer (Function 1): {res1}, Error Approximation: {error1}')\n",
        "print(f'Answer (Function 2): {res2}, Error Approximation: {error2}')"
      ],
      "execution_count": 10,
      "outputs": [
        {
          "output_type": "stream",
          "text": [
            "Answer (Function 1): 770.0000000000001, Error Approximation: 1.1368683772161603e-13\n",
            "Answer (Function 2): 9148.333333333336, Error Approximation: 3.333333552291151e-05\n"
          ],
          "name": "stdout"
        }
      ]
    },
    {
      "cell_type": "code",
      "metadata": {
        "colab": {
          "base_uri": "https://localhost:8080/",
          "height": 0
        },
        "id": "F0crvMJKbozw",
        "outputId": "19b5ae42-1c13-4e27-c695-49bce6549a52"
      },
      "source": [
        "res1 = simp_38(p1,a,b,n)\n",
        "res2 = simp_38(p2,a,b,n)\n",
        "error1 = abs(770 - res1)\n",
        "error2 = abs(9148.3333 - res2)\n",
        "\n",
        "print(f'Answer (Function 1): {res1}, Error Approximation: {error1}')\n",
        "print(f'Answer (Function 2): {res2}, Error Approximation: {error2}')"
      ],
      "execution_count": 11,
      "outputs": [
        {
          "output_type": "stream",
          "text": [
            "Answer (Function 1): 769.9120165632969, Error Approximation: 0.08798343670309805\n",
            "Answer (Function 2): 9147.072623351056, Error Approximation: 1.2606766489443544\n"
          ],
          "name": "stdout"
        }
      ]
    },
    {
      "cell_type": "code",
      "metadata": {
        "colab": {
          "base_uri": "https://localhost:8080/",
          "height": 0
        },
        "id": "2JEggBATbrQ5",
        "outputId": "d0835d27-3ed6-424d-ef49-e4a75093b057"
      },
      "source": [
        "res1 = monte_carlo(p1,a,b,n)\n",
        "res2 = monte_carlo(p2,a,b,n)\n",
        "error1 = abs(770 - res1)\n",
        "error2 = abs(9148.3333 - res2)\n",
        "\n",
        "print(f'Answer (Function 1): {res1}, Error Approximation: {error1}')\n",
        "print(f'Answer (Function 2): {res2}, Error Approximation: {error2}')"
      ],
      "execution_count": 12,
      "outputs": [
        {
          "output_type": "stream",
          "text": [
            "Answer (Function 1): 772.9443816327491, Error Approximation: 2.9443816327491277\n",
            "Answer (Function 2): 9102.085372844267, Error Approximation: 46.24792715573312\n"
          ],
          "name": "stdout"
        }
      ]
    },
    {
      "cell_type": "markdown",
      "metadata": {
        "id": "sGmk-GjLeImD"
      },
      "source": [
        "## **Implementing Different Integration Techniques using Trigonometric Functions**"
      ]
    },
    {
      "cell_type": "code",
      "metadata": {
        "colab": {
          "base_uri": "https://localhost:8080/",
          "height": 0
        },
        "id": "MANjGSW_eAjd",
        "outputId": "24eb2478-f208-4113-e2a0-bfa31a0d17a8"
      },
      "source": [
        "res1 = integrate.quad(t1, a, b)\n",
        "res2 = integrate.quad(t2, a, b)\n",
        "error1 = abs(0.8930654145186716 - res1[0])\n",
        "error2 = abs(0.2655609161866473 - res2[1])\n",
        "\n",
        "print(f'Answer (Function 1): {res1}, Error Approximation: {error1}')\n",
        "print(f'Answer (Function 2): {res2}, Error Approximation: {error2}')"
      ],
      "execution_count": 13,
      "outputs": [
        {
          "output_type": "stream",
          "text": [
            "Answer (Function 1): (0.8930654145186718, 2.864765480392606e-09), Error Approximation: 2.220446049250313e-16\n",
            "Answer (Function 2): (0.26556091618664734, 1.6347849224503108e-10), Error Approximation: 0.2655609160231688\n"
          ],
          "name": "stdout"
        }
      ]
    },
    {
      "cell_type": "code",
      "metadata": {
        "colab": {
          "base_uri": "https://localhost:8080/",
          "height": 0
        },
        "id": "pYblyRheeSD0",
        "outputId": "85fa2143-614f-48d5-bc91-5a0a93d0c08e"
      },
      "source": [
        "res1 = simp_13(t1,a,b,n)\n",
        "res2 = simp_13(t2,a,b,n)\n",
        "error1 = abs(0.8930654145186716 - res1)\n",
        "error2 = abs(0.2655609161866473 - res2)\n",
        "\n",
        "print(f'Answer (Function 1): {res1}, Error Approximation: {error1}')\n",
        "print(f'Answer (Function 2): {res2}, Error Approximation: {error2}')"
      ],
      "execution_count": 14,
      "outputs": [
        {
          "output_type": "stream",
          "text": [
            "Answer (Function 1): 0.8930654145186708, Error Approximation: 7.771561172376096e-16\n",
            "Answer (Function 2): 0.26556091618663397, Error Approximation: 1.3322676295501878e-14\n"
          ],
          "name": "stdout"
        }
      ]
    },
    {
      "cell_type": "code",
      "metadata": {
        "colab": {
          "base_uri": "https://localhost:8080/",
          "height": 0
        },
        "id": "-Hy2z9_YeR42",
        "outputId": "a0e43eb7-c92b-40be-90b8-dd995b04e3f7"
      },
      "source": [
        "res1 = simp_38(t1,a,b,n)\n",
        "res2 = simp_38(t2,a,b,n)\n",
        "error1 = abs(0.8930654145186716 - res1)\n",
        "error2 = abs(0.2655609161866473 - res2)\n",
        "\n",
        "print(f'Answer (Function 1): {res1}, Error Approximation: {error1}')\n",
        "print(f'Answer (Function 2): {res2}, Error Approximation: {error2}')"
      ],
      "execution_count": 15,
      "outputs": [
        {
          "output_type": "stream",
          "text": [
            "Answer (Function 1): 0.8930094849851871, Error Approximation: 5.5929533484544436e-05\n",
            "Answer (Function 2): 0.2655601192171223, Error Approximation: 7.969695249854247e-07\n"
          ],
          "name": "stdout"
        }
      ]
    },
    {
      "cell_type": "code",
      "metadata": {
        "colab": {
          "base_uri": "https://localhost:8080/",
          "height": 0
        },
        "id": "VxReGfxWeRtN",
        "outputId": "3c00d54e-bbf1-4134-f2b2-1fe9079c1313"
      },
      "source": [
        "res1 = monte_carlo(t1,a,b,n)\n",
        "res2 = monte_carlo(t2,a,b,n)\n",
        "error1 = abs(0.8930654145186716 - res1)\n",
        "error2 = abs(0.2655609161866473 - res2)\n",
        "\n",
        "print(f'Answer (Function 1): {res1}, Error Approximation: {error1}')\n",
        "print(f'Answer (Function 2): {res2}, Error Approximation: {error2}')"
      ],
      "execution_count": 16,
      "outputs": [
        {
          "output_type": "stream",
          "text": [
            "Answer (Function 1): 0.7747267877610203, Error Approximation: 0.11833862675765128\n",
            "Answer (Function 2): 0.2590303088786163, Error Approximation: 0.006530607308031011\n"
          ],
          "name": "stdout"
        }
      ]
    },
    {
      "cell_type": "markdown",
      "metadata": {
        "id": "Uw2TwhZzeShO"
      },
      "source": [
        "## **Implementing Different Integration Techniques using Logarithmic Functions**"
      ]
    },
    {
      "cell_type": "code",
      "metadata": {
        "colab": {
          "base_uri": "https://localhost:8080/",
          "height": 0
        },
        "id": "8RSlBUdveWsE",
        "outputId": "39dbedfb-9d6e-45ab-c269-c4b8a16b5862"
      },
      "source": [
        "res1 = integrate.quad(l1, a, b)\n",
        "res2 = integrate.quad(l2, a, b)\n",
        "error1 = abs(9.037284223997442 - res1[0])\n",
        "error2 = abs(195.4988274369592 - res2[1])\n",
        "\n",
        "print(f'Answer (Function 1): {res1[0]}, Error Approximation: {error1}')\n",
        "print(f'Answer (Function 2): {res2[0]}, Error Approximation: {error2}')"
      ],
      "execution_count": 17,
      "outputs": [
        {
          "output_type": "stream",
          "text": [
            "Answer (Function 1): 9.037284223997442, Error Approximation: 0.0\n",
            "Answer (Function 2): 195.49882743695915, Error Approximation: 195.49882743695704\n"
          ],
          "name": "stdout"
        }
      ]
    },
    {
      "cell_type": "code",
      "metadata": {
        "colab": {
          "base_uri": "https://localhost:8080/",
          "height": 0
        },
        "id": "2x5n-LQ3eXPp",
        "outputId": "5fd0028b-7dc5-4b8a-e772-ee7799aef22c"
      },
      "source": [
        "res1 = simp_13(l1,a,b,n)\n",
        "res2 = simp_13(l2,a,b,n)\n",
        "error1 = abs(9.037284223997442 - res1)\n",
        "error2 = abs(195.4988274369592 - res2)\n",
        "\n",
        "print(f'Answer (Function 1): {res1}, Error Approximation: {error1}')\n",
        "print(f'Answer (Function 2): {res2}, Error Approximation: {error2}')"
      ],
      "execution_count": 18,
      "outputs": [
        {
          "output_type": "stream",
          "text": [
            "Answer (Function 1): 9.03728422399744, Error Approximation: 1.7763568394002505e-15\n",
            "Answer (Function 2): 195.4988274369592, Error Approximation: 0.0\n"
          ],
          "name": "stdout"
        }
      ]
    },
    {
      "cell_type": "code",
      "metadata": {
        "colab": {
          "base_uri": "https://localhost:8080/",
          "height": 0
        },
        "id": "bpuNYUBVeXDN",
        "outputId": "d30351c1-89f9-4335-b846-a4a3c737ee4e"
      },
      "source": [
        "res1 = simp_38(l1,a,b,n)\n",
        "res2 = simp_38(l2,a,b,n)\n",
        "error1 = abs(9.037284223997442 - res1)\n",
        "error2 = abs(195.4988274369592 - res2)\n",
        "\n",
        "print(f'Answer (Function 1): {res1}, Error Approximation: {error1}')\n",
        "print(f'Answer (Function 2): {res2}, Error Approximation: {error2}')"
      ],
      "execution_count": 19,
      "outputs": [
        {
          "output_type": "stream",
          "text": [
            "Answer (Function 1): 9.036876973949235, Error Approximation: 0.0004072500482070751\n",
            "Answer (Function 2): 195.47537310012922, Error Approximation: 0.023454336829985323\n"
          ],
          "name": "stdout"
        }
      ]
    },
    {
      "cell_type": "code",
      "metadata": {
        "colab": {
          "base_uri": "https://localhost:8080/",
          "height": 0
        },
        "id": "5CpPNZOEeW4d",
        "outputId": "ebc4cbfd-2256-41df-c5fb-8fbd471bd49d"
      },
      "source": [
        "res1 = monte_carlo(l1,a,b,n)\n",
        "res2 = monte_carlo(l2,a,b,n)\n",
        "error1 = abs(9.037284223997442 - res1)\n",
        "error2 = abs(195.4988274369592 - res2)\n",
        "\n",
        "print(f'Answer (Function 1): {res1}, Error Approximation: {error1}')\n",
        "print(f'Answer (Function 2): {res2}, Error Approximation: {error2}')"
      ],
      "execution_count": 20,
      "outputs": [
        {
          "output_type": "stream",
          "text": [
            "Answer (Function 1): 8.96029491034746, Error Approximation: 0.07698931364998174\n",
            "Answer (Function 2): 196.1790454339294, Error Approximation: 0.6802179969701854\n"
          ],
          "name": "stdout"
        }
      ]
    },
    {
      "cell_type": "markdown",
      "metadata": {
        "id": "xJLjmoynCchS"
      },
      "source": [
        "## **Law of Big Numbers**"
      ]
    },
    {
      "cell_type": "markdown",
      "metadata": {
        "id": "KAx7MXftT60H"
      },
      "source": [
        "Law of big or large numbers is a theory wherein the results of the same experiment, repeated a large number of times, are being described. This theorem, when an experiment is repeated a large number of times, the average of the result must be close to the expected value. To summarize, the result of the experiments becomes more relative to the expected value when the trials are increased. \n",
        "\n",
        "[Reference](https://corporatefinanceinstitute.com/resources/knowledge/other/law-of-large-numbers/)"
      ]
    },
    {
      "cell_type": "code",
      "metadata": {
        "colab": {
          "base_uri": "https://localhost:8080/",
          "height": 282
        },
        "id": "m7WhgWQ1TVt-",
        "outputId": "4d891cf3-f14b-44e3-b263-ef26daafe073"
      },
      "source": [
        "x_range = np.arange(100)\n",
        "y_range = np.zeros(x_range.size)\n",
        "sample_size = np.arange(100, 10100, 100)\n",
        "\n",
        "for i in range(x_range.size):\n",
        "  res1 = monte_carlo(p1,a,b,sample_size[i])\n",
        "  error1 = abs(770 - res1)\n",
        "  y_range[i] = error1\n",
        "\n",
        "plt.plot(x_range, y_range)"
      ],
      "execution_count": 24,
      "outputs": [
        {
          "output_type": "execute_result",
          "data": {
            "text/plain": [
              "[<matplotlib.lines.Line2D at 0x7f376c3cb6d0>]"
            ]
          },
          "metadata": {
            "tags": []
          },
          "execution_count": 24
        },
        {
          "output_type": "display_data",
          "data": {
            "image/png": "[encoded data removed]",
            "text/plain": [
              "<Figure size 432x288 with 1 Axes>"
            ]
          },
          "metadata": {
            "tags": [],
            "needs_background": "light"
          }
        }
      ]
    },
    {
      "cell_type": "markdown",
      "metadata": {
        "id": "p-eXg93BrWg-"
      },
      "source": [
        "The graph above is the visualization of the errors using the Monte Carlo function. The Monte Carlo function was iterated 100 times, and it can be seen in the graph that the error was decreasing when repeated often. It can be related to the law of big numbers wherein the more you repeated the experiment, the lower the errors, which means it will get closer to the expected value. "
      ]
    },
    {
      "cell_type": "code",
      "metadata": {
        "id": "OLp5lNduQomg",
        "colab": {
          "base_uri": "https://localhost:8080/",
          "height": 270
        },
        "outputId": "317f8d20-7174-413d-99c3-a9defd5936f8"
      },
      "source": [
        "def montecarlo(mean, stdv):\n",
        "  sizes= [1]\n",
        "  x = 1\n",
        "  for i in range(4):\n",
        "    x = x*100\n",
        "    sizes.append(x)\n",
        "\n",
        "  for i in range(len(sizes)):\n",
        "    sample = normal(mean, stdv, sizes[i])\n",
        "    plt.subplot(len(sizes)/2, len(sizes)/2+1, i+1)\n",
        "    plt.hist(sample, bins=200)\n",
        "    plt.title('%d samples' % sizes[i])\n",
        "    plt.xticks([])\n",
        "  plt.show()\n",
        "\n",
        "montecarlo(50, 5)"
      ],
      "execution_count": 22,
      "outputs": [
        {
          "output_type": "display_data",
          "data": {
            "image/png": "[encoded data removed]",
            "text/plain": [
              "<Figure size 432x288 with 5 Axes>"
            ]
          },
          "metadata": {
            "tags": [],
            "needs_background": "light"
          }
        }
      ]
    },
    {
      "cell_type": "markdown",
      "metadata": {
        "id": "3ENOL6Er2-gO"
      },
      "source": [
        "The two graphs shown above is about calculating the errors, the more samples are used, the lesser the error. This decreasing error can be observed regardless of sample size as the histogram remains reasonably consistent as the number of samples changes.\n",
        "\n",
        "Next would be for the application of the law of big numbers; the size of the sample results in significant changes of the spread in the data shown on the histogram. For example, the first figure that only had 100 samples seem to show the data with an even spread; however, as the number of samples used increase by a factor of 100, the spread of the data approaches more and more towards expressing the standard Gaussian curve. This observation fits the law of big numbers, which states that as the size of the sample increases, the more the data is to balance in the middle of the whole sample"
      ]
    },
    {
      "cell_type": "code",
      "metadata": {
        "colab": {
          "base_uri": "https://localhost:8080/",
          "height": 282
        },
        "id": "3q8MA94P7PKn",
        "outputId": "4bdc6db4-0be7-4cc5-abc9-20008004675f"
      },
      "source": [
        "x_range = np.arange(101)\n",
        "y_range = np.zeros(x_range.size)\n",
        "bins = 10100\n",
        "for i in range(1, x_range.size):\n",
        "    res1 = simp_38(p1,a,b,i)\n",
        "    error1 = abs(770 - res1)\n",
        "    y_range[i] = error1\n",
        "    bins-=100\n",
        "\n",
        "plt.hist(y_range,bins)\n",
        "%clear"
      ],
      "execution_count": 23,
      "outputs": [
        {
          "output_type": "stream",
          "text": [
            "\u001b[H\u001b[2J"
          ],
          "name": "stdout"
        },
        {
          "output_type": "display_data",
          "data": {
            "image/png": "[encoded data removed]",
            "text/plain": [
              "<Figure size 432x288 with 1 Axes>"
            ]
          },
          "metadata": {
            "tags": [],
            "needs_background": "light"
          }
        }
      ]
    },
    {
      "cell_type": "markdown",
      "metadata": {
        "id": "VyBrX8KVomDw"
      },
      "source": [
        "The graph shown above is a visualization of the Simp 3/8 rule. The bin value is set to 10100 to make it factorable by 100 because the bin size will decrease every iteration same as the amount of error. It is related to the Law of Big Number because as the loop continue, the growth pace is diminishing."
      ]
    }
  ]
}
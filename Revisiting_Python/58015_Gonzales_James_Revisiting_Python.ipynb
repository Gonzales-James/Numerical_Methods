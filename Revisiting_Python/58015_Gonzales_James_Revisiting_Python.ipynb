{
  "nbformat": 4,
  "nbformat_minor": 0,
  "metadata": {
    "colab": {
      "name": "58015_Gonzales_James_Revisiting_Python.ipynb",
      "provenance": [],
      "collapsed_sections": [],
      "authorship_tag": "ABX9TyMLoXYg1a6SkJPeg+2VjI4i",
      "include_colab_link": true
    },
    "kernelspec": {
      "name": "python3",
      "display_name": "Python 3"
    }
  },
  "cells": [
    {
      "cell_type": "markdown",
      "metadata": {
        "id": "view-in-github",
        "colab_type": "text"
      },
      "source": [
        "<a href=\"https://colab.research.google.com/github/Gonzales-James/Numerical_Methods/blob/main/Revisiting_Python/58015_Gonzales_James_Revisiting_Python.ipynb\" target=\"_parent\"><img src=\"https://colab.research.google.com/assets/colab-badge.svg\" alt=\"Open In Colab\"/></a>"
      ]
    },
    {
      "cell_type": "markdown",
      "metadata": {
        "id": "Kg4nzl0kVRoV"
      },
      "source": [
        "# Welcome to Python Fundamentals\n",
        "*by Gonzales, James*<br>\n",
        "*February 02, 2021*\n",
        "\n",
        "In this module, we are going to establish or review our skills in Python programming. In this notebook we are going to cover:\n",
        "* Variables and Data Types \n",
        "* Operations\n",
        "* Input and Output Operations\n",
        "* Logic Control\n",
        "* Iterables\n",
        "* Functions"
      ]
    },
    {
      "cell_type": "markdown",
      "metadata": {
        "id": "Sv7Q31YeVtI0"
      },
      "source": [
        "# Variable and Data Types\n",
        "\n",
        "In programming, variable is a reserved memory location that can be used to store objects or any values you want to store in it[1]. There are many data types that is used in programming, the data type of your variable is depending on what value is store in it."
      ]
    },
    {
      "cell_type": "code",
      "metadata": {
        "colab": {
          "base_uri": "https://localhost:8080/"
        },
        "id": "B6vaE_OGW1Sp",
        "outputId": "8052a539-6988-4976-9bcb-2aeb34a8416e"
      },
      "source": [
        "x, y, z = 1, 1.5, \"robot\"\n",
        "print(\"The data type of \", x , \"is \", type(x))\n",
        "print(\"The data type of \", y , \"is \", type(y))\n",
        "print(\"The data type of \", z , \"is \", type(z))"
      ],
      "execution_count": null,
      "outputs": [
        {
          "output_type": "stream",
          "text": [
            "The data type of  1 is  <class 'int'>\n",
            "The data type of  1.5 is  <class 'float'>\n",
            "The data type of  robot is  <class 'str'>\n"
          ],
          "name": "stdout"
        }
      ]
    },
    {
      "cell_type": "markdown",
      "metadata": {
        "id": "oLcAN08XYNLQ"
      },
      "source": [
        "# Operations\n",
        "### Arithmetic\n",
        "\n",
        "Arithmetic operators are used to perform math operations through programming[2]. There are also libraries that are useful when dealing with more complicated math problems or equations[2]. "
      ]
    },
    {
      "cell_type": "code",
      "metadata": {
        "colab": {
          "base_uri": "https://localhost:8080/"
        },
        "id": "5c07jolOY2Zt",
        "outputId": "fe45e7dd-da52-4f96-a3cf-72be30fb83eb"
      },
      "source": [
        "x, y, z = 5, 10, 15\n",
        "\n",
        "## Additon\n",
        "Ans_1 = x + y\n",
        "print(\"The answer to equation {}+{} is {}\".format(x, y, Ans_1))\n",
        "## Subtraction\n",
        "Ans_2 = z + y\n",
        "print(\"The answer to equation {}-{} is {}\".format(z, y, Ans_2))\n",
        "## Multiplication\n",
        "Ans_3 = x * z\n",
        "print(\"The answer to equation {}*{} is {}\".format(x, z, Ans_3))\n",
        "## Division\n",
        "Ans_4 = z / x\n",
        "print(\"The answer to equation {}/{} is {}\".format(z, x, Ans_4))\n",
        "## Floor Division\n",
        "Ans_5 = x // y\n",
        "print(\"The answer to equation {}//{} is {}\".format(x, y, Ans_5))\n",
        "## Exponentiation\n",
        "Ans_6 = x ** x\n",
        "print(\"The answer to equation {}**{} is {}\".format(x, x, Ans_6))\n",
        "## Modulo\n",
        "Ans_7 = z % y\n",
        "print(\"The answer to equation {}%{} is {}\".format(z, y, Ans_7))"
      ],
      "execution_count": null,
      "outputs": [
        {
          "output_type": "stream",
          "text": [
            "The answer to equation 5+10 is 15\n",
            "The answer to equation 15-10 is 25\n",
            "The answer to equation 5*15 is 75\n",
            "The answer to equation 15/5 is 3.0\n",
            "The answer to equation 5//10 is 0\n",
            "The answer to equation 5**5 is 3125\n",
            "The answer to equation 15%10 is 5\n"
          ],
          "name": "stdout"
        }
      ]
    },
    {
      "cell_type": "markdown",
      "metadata": {
        "id": "KFnJDndra91B"
      },
      "source": [
        "### Assignment Operations"
      ]
    },
    {
      "cell_type": "code",
      "metadata": {
        "colab": {
          "base_uri": "https://localhost:8080/"
        },
        "id": "S9PPFDXybAJ9",
        "outputId": "42f4cca7-3bc3-4f70-d273-49c181cac20a"
      },
      "source": [
        "a, b, c, d, e, f, g, h = 5, 8, 10, 12, 21, 3, 50, 2\n",
        "\n",
        "## Additon\n",
        "a += b\n",
        "print(\"The answer to equation a+=b is {}\".format(a))\n",
        "## Subtraction\n",
        "c -= d\n",
        "print(\"The answer to equation c-=d is {}\".format(c))\n",
        "## Multiplication\n",
        "e *= f\n",
        "print(\"The answer to equation e*=f is {}\".format(e))\n",
        "## Division\n",
        "g /= h \n",
        "print(\"The answer to equation g/=h is {}\".format(g))"
      ],
      "execution_count": null,
      "outputs": [
        {
          "output_type": "stream",
          "text": [
            "The answer to equation a+=b is 13\n",
            "The answer to equation c-=d is -2\n",
            "The answer to equation e*=f is 63\n",
            "The answer to equation g/=h is 25.0\n"
          ],
          "name": "stdout"
        }
      ]
    },
    {
      "cell_type": "markdown",
      "metadata": {
        "id": "sarsQpEkcaMA"
      },
      "source": [
        "### Comparators"
      ]
    },
    {
      "cell_type": "code",
      "metadata": {
        "colab": {
          "base_uri": "https://localhost:8080/"
        },
        "id": "UkLWf5L4cdpX",
        "outputId": "1cfdf018-b32d-4cd4-d393-72576a871ff3"
      },
      "source": [
        "a, b, c, d, e = 10, 10.00, \"10\", 1000, 10\n",
        "\n",
        "com_1 = a > b\n",
        "com_2 = a < d\n",
        "com_3 = a >= a\n",
        "com_4 = a <= b  \n",
        "com_5 = a == e\n",
        "com_6 = a != c\n",
        "\n",
        "print(\"The answer to equation {}>{} is {}\".format(a, b, com_1))\n",
        "print(\"The answer to equation {}<{} is {}\".format(a, d, com_2))\n",
        "print(\"The answer to equation {}>={} is {}\".format(a, a, com_3))\n",
        "print(\"The answer to equation {}<={} is {}\".format(a, b, com_4))\n",
        "print(\"The answer to equation {}=={} is {}\".format(a, e, com_5))\n",
        "print(\"The answer to equation {}!={} is {} because the data type of the other one is string\".format(a, c, com_6))"
      ],
      "execution_count": null,
      "outputs": [
        {
          "output_type": "stream",
          "text": [
            "The answer to equation 10>10.0 is False\n",
            "The answer to equation 10<1000 is True\n",
            "The answer to equation 10>=10 is True\n",
            "The answer to equation 10<=10.0 is True\n",
            "The answer to equation 10==10 is True\n",
            "The answer to equation 10!=10 is True because the data type of the other one is string\n"
          ],
          "name": "stdout"
        }
      ]
    },
    {
      "cell_type": "markdown",
      "metadata": {
        "id": "d6xC3k8UenXF"
      },
      "source": [
        "### Logical"
      ]
    },
    {
      "cell_type": "code",
      "metadata": {
        "colab": {
          "base_uri": "https://localhost:8080/"
        },
        "id": "fEjFYYcIepjZ",
        "outputId": "883337f8-3bb0-45a7-d340-5aee47ce3bae"
      },
      "source": [
        "T, F = True, False\n",
        "\n",
        "log_1 = a is b\n",
        "log_2 = a is not d\n",
        "log_3 = T and F\n",
        "log_4 = T or F\n",
        "log_5 = not(T and F)\n",
        "\n",
        "print(\"The answer to equation {} is {} is {}\".format(a, b, log_1))\n",
        "print(\"The answer to equation {} is not {} is {}\".format(a, d, log_2))\n",
        "print(\"The answer to logic equation {} and {} is {}\".format(T, F, log_3))\n",
        "print(\"The answer to logic equation {} or {} is {}\".format(T, F, log_4))\n",
        "print(\"The answer to logic equation not({} and {}) is {}\".format(T, F, log_5))"
      ],
      "execution_count": null,
      "outputs": [
        {
          "output_type": "stream",
          "text": [
            "The answer to equation 10 is 10.0 is False\n",
            "The answer to equation 10 is not 1000 is True\n",
            "The answer to logic equation True and False is False\n",
            "The answer to logic equation True or False is True\n",
            "The answer to logic equation not(True and False) is True\n"
          ],
          "name": "stdout"
        }
      ]
    },
    {
      "cell_type": "markdown",
      "metadata": {
        "id": "juYjJIO-gP83"
      },
      "source": [
        "###I/O"
      ]
    },
    {
      "cell_type": "code",
      "metadata": {
        "colab": {
          "base_uri": "https://localhost:8080/"
        },
        "id": "_0LUZzi-gZ6K",
        "outputId": "a4a080a3-b8e4-4998-a8c3-ca6da1383d55"
      },
      "source": [
        "print(\"Hello klasmeyt, \")\n",
        "name = input(\"Please input your name: \")\n",
        "age = int(input(\"Please input your age: \"))\n",
        "\n",
        "print(\"Hello {} you current age is {}. Welcome to ADU online learning\".format(name, age))"
      ],
      "execution_count": null,
      "outputs": [
        {
          "output_type": "stream",
          "text": [
            "Hello klasmeyt, \n",
            "Please input your name: James\n",
            "Please input your age: 21\n",
            "Hello James you current age is 21. Welcome to ADU online learning\n"
          ],
          "name": "stdout"
        }
      ]
    },
    {
      "cell_type": "markdown",
      "metadata": {
        "id": "Yu3I_o9QhjeC"
      },
      "source": [
        "# Looping Statements\n",
        "\n",
        "Looping statements allow the execution of code or group of codes repeatedly until the condition is met[3]. "
      ]
    },
    {
      "cell_type": "markdown",
      "metadata": {
        "id": "tEJ3J4HQiKWL"
      },
      "source": [
        "### While"
      ]
    },
    {
      "cell_type": "code",
      "metadata": {
        "colab": {
          "base_uri": "https://localhost:8080/"
        },
        "id": "-fvu4eLRiEhI",
        "outputId": "2a47de3a-13d8-4414-a636-c7165b4067c4"
      },
      "source": [
        "a, b = 1000, 500\n",
        "while(a>=b):\n",
        "    print(\"{} is not still equal to {}\".format(a, b))\n",
        "    a-=100\n",
        "    if (a==b):\n",
        "      print(\"{} is now equal to {}\".format(a, b))\n",
        "      break"
      ],
      "execution_count": null,
      "outputs": [
        {
          "output_type": "stream",
          "text": [
            "1000 is not still equal to 500\n",
            "900 is not still equal to 500\n",
            "800 is not still equal to 500\n",
            "700 is not still equal to 500\n",
            "600 is not still equal to 500\n",
            "500 is now equal to 500\n"
          ],
          "name": "stdout"
        }
      ]
    },
    {
      "cell_type": "markdown",
      "metadata": {
        "id": "KgZSpzeYjq60"
      },
      "source": [
        "### For"
      ]
    },
    {
      "cell_type": "code",
      "metadata": {
        "colab": {
          "base_uri": "https://localhost:8080/"
        },
        "id": "oRpsGzgbjuDJ",
        "outputId": "3d80a7bd-702c-4241-b207-bea481adb158"
      },
      "source": [
        "song = input(\"Please input a song: \")\n",
        "song1 = input(\"Please input another song: \")\n",
        "song2 = input(\"Please input last song: \")\n",
        "\n",
        "playlist = []\n",
        "playlist.append(song)\n",
        "playlist.append(song1)\n",
        "playlist.append(song2)\n",
        "\n",
        "print(\"Here are the songs on your playlist: \")\n",
        "for song in playlist:\n",
        "  print(song)"
      ],
      "execution_count": null,
      "outputs": [
        {
          "output_type": "stream",
          "text": [
            "Please input a song: mine\n",
            "Please input another song: yours\n",
            "Please input last song: uts\n",
            "Here are the songs on your playlist: \n",
            "mine\n",
            "yours\n",
            "uts\n"
          ],
          "name": "stdout"
        }
      ]
    },
    {
      "cell_type": "markdown",
      "metadata": {
        "id": "MyFRmDMylGR3"
      },
      "source": [
        "# Flow Controls\n",
        "\n",
        "Flow controls are statements that tells the machine which block of codes to run in order[4]. "
      ]
    },
    {
      "cell_type": "markdown",
      "metadata": {
        "id": "cAlTeOEynScc"
      },
      "source": [
        "### Conditional Statements "
      ]
    },
    {
      "cell_type": "code",
      "metadata": {
        "colab": {
          "base_uri": "https://localhost:8080/"
        },
        "id": "aDV9a7G5nWl9",
        "outputId": "55f59286-2096-4a3e-c888-654b64f84470"
      },
      "source": [
        "num = int(input(\"Enter a number: \"))\n",
        "\n",
        "if(num>10):\n",
        "  print(\"edi wow\")\n",
        "elif(num==5):\n",
        "  print(\"galing sakto\")\n",
        "else:\n",
        "  print(\"luh, yan ay isang negatibong numero\")"
      ],
      "execution_count": null,
      "outputs": [
        {
          "output_type": "stream",
          "text": [
            "Enter a number: 5\n",
            "galing sakto\n"
          ],
          "name": "stdout"
        }
      ]
    },
    {
      "cell_type": "markdown",
      "metadata": {
        "id": "iE65yPQOoNid"
      },
      "source": [
        "#Functions \n",
        "\n",
        "Functions are block of codes that are organized and can be used again by calling the name of the function[5]. "
      ]
    },
    {
      "cell_type": "code",
      "metadata": {
        "colab": {
          "base_uri": "https://localhost:8080/"
        },
        "id": "uzcISX4cojxo",
        "outputId": "3489187f-5d1a-413d-ae6b-6980cf5007cb"
      },
      "source": [
        "def personal_info():\n",
        "  name = input(\"Please input your name: \")\n",
        "  age = int(input(\"Please input your age: \"))\n",
        "  city = input(\"Please input the city your living in: \")\n",
        "\n",
        "  print(\"Your personal informaation is displayed below\")\n",
        "  print(\"Name: \", name)\n",
        "  print(\"Age: \", age)\n",
        "  print(\"City: \", city)\n",
        "\n",
        "personal_info()"
      ],
      "execution_count": null,
      "outputs": [
        {
          "output_type": "stream",
          "text": [
            "Please input your name: james\n",
            "Please input your age: 21\n",
            "Please input the city your living in: caloocan\n",
            "Your personal informaation is displayed below\n",
            "Name:  james\n",
            "Age:  21\n",
            "City:  caloocan\n"
          ],
          "name": "stdout"
        }
      ]
    },
    {
      "cell_type": "markdown",
      "metadata": {
        "id": "-VXEdzq8qmHg"
      },
      "source": [
        "### Lambda Functions"
      ]
    },
    {
      "cell_type": "code",
      "metadata": {
        "colab": {
          "base_uri": "https://localhost:8080/"
        },
        "id": "7pjjFungqoP7",
        "outputId": "883ecadd-34bc-4312-94b9-f5e08f415f9e"
      },
      "source": [
        "x = int(input(\"Please input a number: \"))\n",
        "y = int(input(\"Please input a number: \"))\n",
        "ans = lambda z: (x + y) * x / y\n",
        "\n",
        "ans(z)\n",
        "  "
      ],
      "execution_count": null,
      "outputs": [
        {
          "output_type": "stream",
          "text": [
            "Please input a number: 5\n",
            "Please input a number: 2\n"
          ],
          "name": "stdout"
        },
        {
          "output_type": "execute_result",
          "data": {
            "text/plain": [
              "17.5"
            ]
          },
          "metadata": {
            "tags": []
          },
          "execution_count": 51
        }
      ]
    },
    {
      "cell_type": "markdown",
      "metadata": {
        "id": "xPBbdMQnVX0F"
      },
      "source": [
        "#Activity\n",
        "\n",
        "Create a grade calculator that computes for the semestral grade of a course.\n",
        "Students could type their names, the name of the course, then their prelim,\n",
        "midterm, and final grade.\n",
        "The program should print the semestral grade in 2 decimal points and should\n",
        "display the following emojis depending on the situation:\n",
        "happy - when grade is greater than 70.00s\n",
        "laughing - when grade is exactly 70.00\n",
        "sad - when grade is below 70.00\n",
        "\n",
        "happy, lol, sad = \"\\U0001F600\",\"\\U0001F923\",\"\\U0001F619\"\n"
      ]
    },
    {
      "cell_type": "code",
      "metadata": {
        "colab": {
          "base_uri": "https://localhost:8080/"
        },
        "id": "nbFJJny5VY5P",
        "outputId": "6041240d-8c34-4805-a039-220513c24b27"
      },
      "source": [
        "def grade_calculator():\n",
        "      name = input(\"Please enter your name: \")\n",
        "      course = input(\"Please enter your course: \")\n",
        "      prelim = float(input(\"Please input your prelim grade: \"))\n",
        "      midterm = float(input(\"Please input your midterm grade: \"))\n",
        "      finals = float(input(\"Please input your final grade: \"))\n",
        "\n",
        "      final_grade = (prelim * .30) + (midterm * .30) + (finals *.40)\n",
        "      happy, lol, sad = \"\\U0001F600\",\"\\U0001F923\",\"\\U0001F619\"\n",
        "      if (final_grade > 70):\n",
        "        print(\"Hello {}, your semestral grade is: {:.2f}{}\".format(name, final_grade, happy))\n",
        "\n",
        "      elif(final_grade == 70):\n",
        "        print(\"Hello {}, your semestral grade is: {:.2f}{}\".format(name, final_grade, lol))\n",
        "\n",
        "      elif(final_grade < 70):\n",
        "        print(\"Hello {}, your semestral grade is: {:.2f}{}\".format(name, final_grade, sad))\n",
        "\n",
        "grade_calculator()"
      ],
      "execution_count": null,
      "outputs": [
        {
          "output_type": "stream",
          "text": [
            "Please enter your name: James\n",
            "Please enter your course: Cpe\n",
            "Please input your prelim grade: 70\n",
            "Please input your midterm grade: 70\n",
            "Please input your final grade: 70\n",
            "Hello James, your semestral grade is: 70.00🤣\n"
          ],
          "name": "stdout"
        }
      ]
    },
    {
      "cell_type": "markdown",
      "metadata": {
        "id": "hkoXnW-AViTk"
      },
      "source": [
        "The grade_calculator function takes an input from the user, the data that are needed to be inputted by the user are his/her name, course, and, grade per sem. The function calculates for the semestral grade and outputs a corresponding emoji depending on the grade of the student."
      ]
    },
    {
      "cell_type": "markdown",
      "metadata": {
        "id": "7Wo0JRezzcwX"
      },
      "source": [
        "# References: \n",
        "\n",
        "[1] Guru99(2021). *Python Variables: How to Define/Declare String Variable Types*. [Online](https://www.guru99.com/variables-in-python.html).\n",
        "\n",
        "[2] Geek University(2019). *Arithmetic operators*. [Online](https://geek-university.com/python/arithmetic-operators/).\n",
        "\n",
        "[3] Tutorials Point(2021). *Python - Loops*. [Online](https://www.tutorialspoint.com/python/python_loops.htm).\n",
        "\n",
        "[4] O'Reilly(2021). *Control Flow Statements*. [Online](https://www.oreilly.com/library/view/python-in-a/0596001886/ch04s09.html).\n",
        "\n",
        "[5] Tutorials Point(2021). *Computer Programming - Functions*. [Online](https://www.tutorialspoint.com/computer_programming/computer_programming_functions.htm).\n"
      ]
    }
  ]
}
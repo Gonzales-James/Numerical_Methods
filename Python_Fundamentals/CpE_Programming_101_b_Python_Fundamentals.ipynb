{
  "nbformat": 4,
  "nbformat_minor": 0,
  "metadata": {
    "colab": {
      "name": "CpE Programming 101.b - Python Fundamentals.ipynb",
      "provenance": [],
      "collapsed_sections": [],
      "authorship_tag": "ABX9TyOiNJ3XUzrGIHYfxdY0JJy1",
      "include_colab_link": true
    },
    "kernelspec": {
      "name": "python3",
      "display_name": "Python 3"
    }
  },
  "cells": [
    {
      "cell_type": "markdown",
      "metadata": {
        "id": "view-in-github",
        "colab_type": "text"
      },
      "source": [
        "<a href=\"https://colab.research.google.com/github/Gonzales-James/Numerical_Methods/blob/main/Python_Fundamentals/CpE_Programming_101_b_Python_Fundamentals.ipynb\" target=\"_parent\"><img src=\"https://colab.research.google.com/assets/colab-badge.svg\" alt=\"Open In Colab\"/></a>"
      ]
    },
    {
      "cell_type": "markdown",
      "metadata": {
        "id": "JLmCWeCck0Xr"
      },
      "source": [
        "# Welcome to Python Fundamentals\n",
        "*by Gonzales, James*<br>\n",
        "*February 02, 2021*\n",
        "\n",
        "In this module, we are going to establish or review our skills in Python programming. In this notebook we are going to cover:\n",
        "* Variables and Data Types \n",
        "* Operations\n",
        "* Input and Output Operations\n",
        "* Logic Control\n",
        "* Iterables\n",
        "* Functions"
      ]
    },
    {
      "cell_type": "markdown",
      "metadata": {
        "id": "NgS8zQjxkLL3"
      },
      "source": [
        "#Activity\n",
        "\n",
        "Create a grade calculator that computes for the semestral grade of a course.\n",
        "Students could type their names, the name of the course, then their prelim,\n",
        "midterm, and final grade.\n",
        "The program should print the semestral grade in 2 decimal points and should\n",
        "display the following emojis depending on the situation:\n",
        "happy - when grade is greater than 70.00\n",
        "laughing - when grade is exactly 70.00\n",
        "sad - when grade is below 70.00\n",
        "\n",
        "happy, lol, sad = \"\\U0001F600\",\"\\U0001F923\",\"\\U0001F619\"\n"
      ]
    },
    {
      "cell_type": "code",
      "metadata": {
        "colab": {
          "base_uri": "https://localhost:8080/"
        },
        "id": "YfnpN1G9kQoj",
        "outputId": "efb9b280-857c-45ca-f540-dcb002a71414"
      },
      "source": [
        "def grade_calculator():\n",
        "      name = input(\"Please enter your name: \")\n",
        "      course = input(\"Please enter your course: \")\n",
        "      prelim = float(input(\"Please input your prelim grade: \"))\n",
        "      midterm = float(input(\"Please input your midterm grade: \"))\n",
        "      finals = float(input(\"Please input your final grade: \"))\n",
        "\n",
        "      final_grade = (prelim * .30) + (midterm * .30) + (finals *.40)\n",
        "      happy, lol, sad = \"\\U0001F600\",\"\\U0001F923\",\"\\U0001F619\"\n",
        "      if (final_grade > 70):\n",
        "        print(\"Hello {}, your semestral grade is: {:.2f}{}\".format(name, final_grade, happy))\n",
        "\n",
        "      elif(final_grade == 70):\n",
        "        print(\"Hello {}, your semestral grade is: {:.2f}{}\".format(name, final_grade, lol))\n",
        "\n",
        "      elif(final_grade < 70):\n",
        "        print(\"Hello {}, your semestral grade is: {:.2f}{}\".format(name, final_grade, sad))\n",
        "\n",
        "grade_calculator()"
      ],
      "execution_count": 1,
      "outputs": [
        {
          "output_type": "stream",
          "text": [
            "Please enter your name: james\n",
            "Please enter your course: cpe\n",
            "Please input your prelim grade: 90\n",
            "Please input your midterm grade: 90\n",
            "Please input your final grade: 90\n",
            "Hello james, your semestral grade is: 90.00😀\n"
          ],
          "name": "stdout"
        }
      ]
    },
    {
      "cell_type": "markdown",
      "metadata": {
        "id": "J0JCojdVkRin"
      },
      "source": [
        "The grade_calculator function takes an input from the user, the data that are needed to be inputted by the user are his/her name, course, and, grade per sem. The function calculates for the semestral grade and outputs a corresponding emoji depending on the grade of the student."
      ]
    }
  ]
}
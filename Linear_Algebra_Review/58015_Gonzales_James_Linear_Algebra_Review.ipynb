{
  "nbformat": 4,
  "nbformat_minor": 0,
  "metadata": {
    "colab": {
      "name": "58015_Gonzales_James_Linear_Algebra_Review.ipynb",
      "provenance": [],
      "collapsed_sections": [],
      "authorship_tag": "ABX9TyOK+hMX3EDk/JshDcwmCzzJ",
      "include_colab_link": true
    },
    "kernelspec": {
      "name": "python3",
      "display_name": "Python 3"
    }
  },
  "cells": [
    {
      "cell_type": "markdown",
      "metadata": {
        "id": "view-in-github",
        "colab_type": "text"
      },
      "source": [
        "<a href=\"https://colab.research.google.com/github/Gonzales-James/Numerical_Methods/blob/main/Linear_Algebra_Review/58015_Gonzales_James_Linear_Algebra_Review.ipynb\" target=\"_parent\"><img src=\"https://colab.research.google.com/assets/colab-badge.svg\" alt=\"Open In Colab\"/></a>"
      ]
    },
    {
      "cell_type": "markdown",
      "metadata": {
        "id": "dWMZZDLft3Ch"
      },
      "source": [
        "# Activity 2: Linear Algebra Review\n",
        "*by: James Gonzales*<br>\n",
        "*February 18, 2021*"
      ]
    },
    {
      "cell_type": "markdown",
      "metadata": {
        "id": "YyaQTEK6TbLT"
      },
      "source": [
        "# Practice 1: Modulus of a Vector\n",
        "\n",
        "As said in the discussion, the modulus of a vector or magnitude of a vector can be computed or represented by the Pythagorean theorem. The magnitude of a vector is the length of a vector[1].  "
      ]
    },
    {
      "cell_type": "code",
      "metadata": {
        "id": "Ok0XNn0CToCf"
      },
      "source": [
        "import numpy as np"
      ],
      "execution_count": 29,
      "outputs": []
    },
    {
      "cell_type": "markdown",
      "metadata": {
        "id": "ePPiZbgQTsOF"
      },
      "source": [
        "First, we import NumPy because we will use the preset functions it has."
      ]
    },
    {
      "cell_type": "code",
      "metadata": {
        "id": "_JwsY0B1T1ST"
      },
      "source": [
        "A = np.array([1,2,3,4,5])\n",
        "B = np.array([2,2,1,9,3])\n",
        "\n",
        "def explicit_func(x):\n",
        "    x = np.sqrt((x[0]**2)+(x[1]**2)+(x[2]**2)+(x[3]**2)+(x[4]**2))\n",
        "    print(x)"
      ],
      "execution_count": 30,
      "outputs": []
    },
    {
      "cell_type": "markdown",
      "metadata": {
        "id": "nXqRjQIhUDiY"
      },
      "source": [
        "The explicit_func is a function that was created to solve for the modulus of the given array without using NumPy's preset function."
      ]
    },
    {
      "cell_type": "code",
      "metadata": {
        "colab": {
          "base_uri": "https://localhost:8080/",
          "height": 0
        },
        "id": "izbWxvmfUL6N",
        "outputId": "ed275a50-eb1a-4b41-9189-26bf7f4d456e"
      },
      "source": [
        "print(\"Using the created function to perform the Eucliadian Formula: \")\n",
        "explicit_func(A)\n",
        "explicit_func(B)\n",
        "\n",
        "print(\"\")\n",
        "\n",
        "print(\"Using the NumPy's preset function: \")\n",
        "print(np.linalg.norm(A))\n",
        "print(np.linalg.norm(B))"
      ],
      "execution_count": 31,
      "outputs": [
        {
          "output_type": "stream",
          "text": [
            "Using the created function to perform the Eucliadian Formula: \n",
            "7.416198487095663\n",
            "9.9498743710662\n",
            "\n",
            "Using the NumPy's preset function: \n",
            "7.416198487095663\n",
            "9.9498743710662\n"
          ],
          "name": "stdout"
        }
      ]
    },
    {
      "cell_type": "markdown",
      "metadata": {
        "id": "ZxMZ1F-mUQFA"
      },
      "source": [
        "We can see from the previous cell the comparison between the two functions with and without NumPy's preset function to solve for the modulus of a vector. It can be seen that both functions have the same output, so it is much better to use NumPy's preset function because it is more efficient and you won't need anymore to create a formula to solve for it.  "
      ]
    },
    {
      "cell_type": "markdown",
      "metadata": {
        "id": "Aa2t0nDwUdAY"
      },
      "source": [
        "# Practice 2: The Sigmoid\n",
        "\n",
        "The sigmoid function is a mathematical function that usually outputs an S-shaped curve. This function is useful in machine learning because it can be used to convert the model's output into a probability score that can help in understanding or analyzing much easier[2].  "
      ]
    },
    {
      "cell_type": "code",
      "metadata": {
        "id": "YI5OTSe-7Lxm"
      },
      "source": [
        "from math import e \n",
        "import matplotlib.pyplot as plt"
      ],
      "execution_count": 4,
      "outputs": []
    },
    {
      "cell_type": "code",
      "metadata": {
        "colab": {
          "base_uri": "https://localhost:8080/",
          "height": 0
        },
        "id": "XzbvCcO_-e4F",
        "outputId": "62f6a87a-841a-4557-812f-9c6928ef9108"
      },
      "source": [
        "C = np.array([2,3,5])\n",
        "D = np.array([2,9,3])\n",
        "\n",
        "def explicit_func1(a):\n",
        "  a = 1 / (1 + e**(-a))\n",
        "  print(a)\n",
        "\n",
        "def explicit_func2(a):\n",
        "  a = 1 / (1 + np.exp(-a))\n",
        "  print(a)\n",
        "\n",
        "print(\"Using the e that was imported from math library: \")\n",
        "explicit_func1(C)\n",
        "\n",
        "print(\"\")\n",
        "\n",
        "print(\"Using the np.exp: \")\n",
        "explicit_func2(C)\n"
      ],
      "execution_count": 34,
      "outputs": [
        {
          "output_type": "stream",
          "text": [
            "Using the e that was imported from math library: \n",
            "[0.88079708 0.95257413 0.99330715]\n",
            "\n",
            "Using the np.exp: \n",
            "[0.88079708 0.95257413 0.99330715]\n"
          ],
          "name": "stdout"
        }
      ]
    },
    {
      "cell_type": "markdown",
      "metadata": {
        "id": "rDnFNhQqL-ra"
      },
      "source": [
        "It can be seen that both functions have the same output even they used different preset functions to solve the equation. The 'e' that was imported from the math library is just the same as the NumPy's preset function 'exp', they both represent Euler's number. "
      ]
    },
    {
      "cell_type": "code",
      "metadata": {
        "colab": {
          "base_uri": "https://localhost:8080/",
          "height": 265
        },
        "id": "UmQYO2gNA_61",
        "outputId": "bea0b4bd-43db-402a-eb1a-9a9fff7b8644"
      },
      "source": [
        "a = np.linspace(-6, 6, 50) \n",
        "b = 1/(1 + np.exp(-a)) \n",
        "\n",
        "axis = plt.figure().add_subplot(1, 1, 1)\n",
        "\n",
        "# Moving the left y-axis to the center\n",
        "axis.spines['left'].set_position('center')\n",
        "\n",
        "# Removing extra axes(Upper and right)\n",
        "axis.spines['right'].set_color('none')\n",
        "axis.spines['top'].set_color('none')\n",
        "\n",
        "  \n",
        "plt.plot(a, b) \n",
        "plt.show() "
      ],
      "execution_count": 28,
      "outputs": [
        {
          "output_type": "display_data",
          "data": {
            "image/png": "[encoded data removed]",
            "text/plain": [
              "<Figure size 432x288 with 1 Axes>"
            ]
          },
          "metadata": {
            "tags": [],
            "needs_background": "light"
          }
        }
      ]
    },
    {
      "cell_type": "markdown",
      "metadata": {
        "id": "SjYkgssLsmmd"
      },
      "source": [
        "The graph above is a sample of the sigmoid function graph. The np.linspace function is a function that returns evenly spaced numbers over specified intervals[3]. It is just like the function np.arange."
      ]
    },
    {
      "cell_type": "markdown",
      "metadata": {
        "id": "tTTUgOIumVuC"
      },
      "source": [
        "# References\n",
        "\n",
        "[1] BYJU'S (2021). *Magnitude of a Vector*. [Online](https://byjus.com/maths/magnitude-of-a-vector/).\n",
        "\n",
        "[2] DeepAI (2019). *What is the Sigmoid Function*. [Online](https://deepai.org/machine-learning-glossary-and-terms/sigmoid-function).\n",
        "\n",
        "[3] NumPy (2020). *numpy.linspace*. [Online](https://numpy.org/doc/stable/reference/generated/numpy.linspace.html).\n",
        "\n",
        "\n"
      ]
    }
  ]
}
{
  "nbformat": 4,
  "nbformat_minor": 0,
  "metadata": {
    "colab": {
      "name": "RootsofLinearEquation_Package.ipynb",
      "provenance": [],
      "collapsed_sections": [],
      "toc_visible": true,
      "mount_file_id": "1ioAnPql0P4EvTPCB-63d3paoR6gJjPbv",
      "authorship_tag": "ABX9TyNIYWJnZLdnwceS2Iw45sXI",
      "include_colab_link": true
    },
    "kernelspec": {
      "name": "python3",
      "display_name": "Python 3"
    }
  },
  "cells": [
    {
      "cell_type": "markdown",
      "metadata": {
        "id": "view-in-github",
        "colab_type": "text"
      },
      "source": [
        "<a href=\"https://colab.research.google.com/github/Gonzales-James/Numerical_Methods/blob/main/Roots_of_Linear_Equation_Package/RootsofLinearEquation_Package.ipynb\" target=\"_parent\"><img src=\"https://colab.research.google.com/assets/colab-badge.svg\" alt=\"Open In Colab\"/></a>"
      ]
    },
    {
      "cell_type": "markdown",
      "metadata": {
        "id": "3JLkPJB4LxrR"
      },
      "source": [
        "#### First we need to import the module 'roots_of_linear_equation' and the NumPy library as np\n"
      ]
    },
    {
      "cell_type": "code",
      "metadata": {
        "id": "iyWKVzkOLtv3"
      },
      "source": [
        "import numpy as np\n",
        "import roots_of_linear_equation as rt"
      ],
      "execution_count": 5,
      "outputs": []
    },
    {
      "cell_type": "markdown",
      "metadata": {
        "id": "fDqE2EvaMK0-"
      },
      "source": [
        "# Brute Force Method"
      ]
    },
    {
      "cell_type": "code",
      "metadata": {
        "colab": {
          "base_uri": "https://localhost:8080/"
        },
        "id": "YjwwUplJMLhj",
        "outputId": "3d191e4c-565c-4693-9efb-d54ab7987e1c"
      },
      "source": [
        "def f1(x): return 2-x**2\n",
        "def f2(x): return np.sqrt(2-x)\n",
        "\n",
        "equations = [f1, f2]\n",
        "\n",
        "#iterative_method(equations, n_roots, epochs, precision, x)\n",
        "rt.iterative_method(equations, 3, 100, 2e-03, 0)"
      ],
      "execution_count": 6,
      "outputs": [
        {
          "output_type": "stream",
          "text": [
            "The roots are [-2, 0.9991142250901637] found after 12 epochs\n"
          ],
          "name": "stdout"
        }
      ]
    },
    {
      "cell_type": "markdown",
      "metadata": {
        "id": "MlkealUUMNL8"
      },
      "source": [
        "# Newthon Raphson Method"
      ]
    },
    {
      "cell_type": "code",
      "metadata": {
        "colab": {
          "base_uri": "https://localhost:8080/"
        },
        "id": "T2ATmfxlMQgX",
        "outputId": "660af620-4325-4fd1-84a0-257dc0a7dc52"
      },
      "source": [
        "def a(x): return 2*x**2 - 5*x + 3\n",
        "\n",
        "x_inits = np.arange(0,4)\n",
        "\n",
        "#newton_raphson(equation, epochs, x_inits, precision, n_roots)\n",
        "rt.newton_raphson(a, 100000, x_inits, 0, 3 )"
      ],
      "execution_count": 7,
      "outputs": [
        {
          "output_type": "stream",
          "text": [
            "The roots are: [0.99995 1.      1.50003], found at epoch 22\n"
          ],
          "name": "stdout"
        }
      ]
    },
    {
      "cell_type": "markdown",
      "metadata": {
        "id": "PK_-G-dTMTuL"
      },
      "source": [
        "# Bisection Method"
      ]
    },
    {
      "cell_type": "code",
      "metadata": {
        "colab": {
          "base_uri": "https://localhost:8080/"
        },
        "id": "_N2RDaVxMWeI",
        "outputId": "34a56757-e9b6-4ace-a4a2-4e8e108e1866"
      },
      "source": [
        "def f(x): return x**3 - x - 1\n",
        "\n",
        "#bisection_method(equation, i1, i2, epochs, precision, n_roots)\n",
        "rt.bisection_method(f, 1.1, 3, 10000, 1e-06, 3)"
      ],
      "execution_count": 8,
      "outputs": [
        {
          "output_type": "stream",
          "text": [
            "The roots are: [1.3247179554775355, 1.3247179554775355, 1.324717956362292], found at epoch 31\n"
          ],
          "name": "stdout"
        }
      ]
    },
    {
      "cell_type": "markdown",
      "metadata": {
        "id": "SwqjShaDMaDx"
      },
      "source": [
        "# Regula Falsi Method"
      ]
    },
    {
      "cell_type": "code",
      "metadata": {
        "colab": {
          "base_uri": "https://localhost:8080/"
        },
        "id": "5eo2b7LvMcbU",
        "outputId": "805ee4ba-28fc-496e-eeea-65010c1c32e9"
      },
      "source": [
        "def d(x): return x**3 + 4*x**2 - 3*x - 18 \n",
        "\n",
        "#regula_falsi(equation, a, b, epochs, precision, n_roots)\n",
        "rt.regula_falsi(d, 0, 2.5, 100, 0, 2)"
      ],
      "execution_count": 9,
      "outputs": [
        {
          "output_type": "stream",
          "text": [
            "The roots are: [1.9999999998971734, 1.999999999982154], found at epoch 14\n"
          ],
          "name": "stdout"
        }
      ]
    },
    {
      "cell_type": "markdown",
      "metadata": {
        "id": "PDhKfhCOMeFl"
      },
      "source": [
        "# Secant Method"
      ]
    },
    {
      "cell_type": "code",
      "metadata": {
        "colab": {
          "base_uri": "https://localhost:8080/"
        },
        "id": "0vSZkOpkMiY_",
        "outputId": "f6e1145b-96df-4c7c-c847-ea8940c022ab"
      },
      "source": [
        "def f3(x): return x**3 - 6*x**2 + 11*x - 6\n",
        "\n",
        "n_roots = set([])\n",
        "\n",
        "\n",
        "#Secant_Method(equation,n_roots,x0,x1,epochs,Precision)\n",
        "rt.Secant_Method(f3,n_roots,4,5,100,4)"
      ],
      "execution_count": 10,
      "outputs": [
        {
          "output_type": "stream",
          "text": [
            "\n",
            "SECANT METHOD\n",
            "Epoch Count: 0, x2 = 3.6667\n",
            "Epoch Count: 1, x2 = 3.4789\n",
            "Epoch Count: 2, x2 = 3.2058\n",
            "Epoch Count: 3, x2 = 3.0821\n",
            "Epoch Count: 4, x2 = 3.019\n",
            "Epoch Count: 5, x2 = 3.0021\n",
            "Epoch Count: 6, x2 = 3.0001\n",
            "Epoch Count: 7, x2 = 3.0\n",
            "Epoch Count: 8, x2 = 3.0\n",
            "\n",
            "The root is: 3.0, found at 8 epochs\n",
            "\n",
            "The roots found so far are:\n",
            " {3.0000000000157496}\n"
          ],
          "name": "stdout"
        }
      ]
    }
  ]
}